{
 "cells": [
  {
   "cell_type": "code",
   "execution_count": 12,
   "metadata": {},
   "outputs": [
    {
     "name": "stdout",
     "output_type": "stream",
     "text": [
      "- Found outliers: ['25.2 at 2/6/2019', '24.0 at 1/2/2019']\n",
      "- Design Spec: LSL=5, USL=25\n",
      "- Fixed CL: LCL=9.97, UCL=19.93, Mean=14.95\n",
      "- CPK=1.18, StDev=2.72, Sample_Mean=15.41\n"
     ]
    },
    {
     "data": {
      "image/png": "[encoded data removed]",
      "text/plain": [
       "<Figure size 432x288 with 1 Axes>"
      ]
     },
     "metadata": {
      "needs_background": "light"
     },
     "output_type": "display_data"
    }
   ],
   "source": [
    "import pandas as pd\n",
    "import numpy as np\n",
    "import matplotlib.pyplot as plt\n",
    "import matplotlib\n",
    "import statistics\n",
    "import time\n",
    "from pptx import Presentation\n",
    "import datetime as dt\n",
    "from pptx.util import Inches\n",
    "from spec import Xbar_UCL\n",
    "from spec import Xbar_LCL\n",
    "from spec import Xbar_Mean\n",
    "from spec import R_Mean\n",
    "from spec import R_UCL\n",
    "from spec import R_LCL\n",
    "from spec import USL\n",
    "from spec import LSL\n",
    "from spec import SIZE\n",
    "from pptx.util import Pt\n",
    "from pptx.enum.text import MSO_AUTO_SIZE\n",
    "from scipy import stats  # for normality test\n",
    "import scipy.stats as stats  # for normality test\n",
    "from scipy.stats import sem  # Standard Error for Mean\n",
    "from scipy.stats import sem, ttest_ind   # for t-test\n",
    "#############################################################################################\n",
    "\n",
    "df=pd.read_csv(\"SPCdata_m.csv\")\n",
    "y=[]\n",
    "x=[]\n",
    "r=[]\n",
    "date=[]\n",
    "for n in range((len(df['TestData']))//SIZE):\n",
    "    y.append(df['TestData'][(n*SIZE):((n+1)*SIZE)].mean())\n",
    "    r.append(abs((df['TestData'][(n*SIZE):((n+1)*SIZE)].max())-(df['TestData'][n:(n+SIZE)].min())))\n",
    "    x.append(n)\n",
    "    date.append(df['TestDate'][n*SIZE])\n",
    "\n",
    "# Make a new DataFrame with x,y,r,date\n",
    "df_new=pd.DataFrame({'Label':x,'TestData':y,'Range':r,'Date':date})\n",
    "\n",
    "\n",
    "xx=df_new['Label']\n",
    "yy=df_new['TestData']\n",
    "rr=df_new['Range']\n",
    "date_new=df_new['Date']\n",
    "\n",
    "# Statistics for Xbar-chart\n",
    "std=round(statistics.stdev(yy),2)\n",
    "mean=Xbar_Mean\n",
    "upper=Xbar_UCL\n",
    "lower=Xbar_LCL\n",
    "avg=round(statistics.mean(yy),2)\n",
    "\n",
    "Rstd=round(statistics.stdev(rr),2)\n",
    "Ravg=round(statistics.mean(rr),2)\n",
    "Rmean=R_Mean\n",
    "Rupper=R_UCL\n",
    "Rlower=R_LCL\n",
    "if Rlower<0:\n",
    "    Rlower=0\n",
    "\n",
    "# Outlier list value collection\n",
    "y2=[]\n",
    "d2=[]\n",
    "s=[LSL-std]*len(xx)  # For plot scarter chart's y value. Put other values in low level as [LSL-std] to not show up in chart\n",
    "Ry2=[]\n",
    "Rd2=[]\n",
    "Rs=[-1]*len(xx) \n",
    "\n",
    "for i in range(len(xx)):\n",
    "    if yy[i]>upper or yy[i]<lower:\n",
    "        d2.append(date_new[i])\n",
    "        y2.append(yy[i])\n",
    "        s[i]=yy[i]\n",
    "    if rr[i]>Rupper or rr[i]<Rlower:\n",
    "        Rd2.append(date_new[i])\n",
    "        Ry2.append(rr[i])\n",
    "        Rs[i]=rr[i]\n",
    "                \n",
    "Cpk=round(min((USL-avg)/(3*std),(avg-LSL)/(3*std)),2)      \n",
    "\n",
    "# Plot Initial Xbar Chart\n",
    "plt.plot(xx,yy,marker='.', color='grey')\n",
    "\n",
    "# Use scatter plot to highlight excursion points.\n",
    "plt.scatter(xx, s, s=50, marker=\"o\", facecolors='red', edgecolors=\"red\" )\n",
    "\n",
    "# Add Control Lines\n",
    "plt.axhline(y=upper, color='r', linestyle='-', alpha=1, label=(f'UCL={round(upper)}'))\n",
    "plt.axhline(y=lower, color='r', linestyle='-', alpha=1, label=(f'LCL={round(lower)}'))\n",
    "plt.axhline(y=mean, color='green', linestyle='-', alpha=1, label=(f'Mean={round(mean)}'))\n",
    "\n",
    "# Modify charts and save to png\n",
    "plt.title(\"X_Bar Chart\")\n",
    "plt.xlabel(\"Order\")\n",
    "plt.ylabel(\"X_Bar\")\n",
    "plt.xticks(rotation=90)\n",
    "SMALL_SIZE = 5\n",
    "plt.rc('legend', fontsize=SMALL_SIZE)\n",
    "plt.rc('axes', labelsize=SMALL_SIZE)    # fontsize of the x and y labels\n",
    "        # plt.xlim(0,10)\n",
    "plt.ylim((lower-std),)\n",
    "plt.legend(loc=\"best\")\n",
    "\n",
    "table=pd.DataFrame({'TestDate':d2,'TestResult':y2})\n",
    "ExPoints=[]\n",
    "for i in range(len(d2)):\n",
    "    ExPoints.append(f'{y2[i]} at {d2[i]}')\n",
    "\n",
    "plt.savefig(\"Xbar_Chart.png\")\n",
    "Conclusion=((f'- Found outliers: {ExPoints}')+'\\n'+(f\"- Design Spec: LSL={LSL}, USL={USL}\")+\"\\n\"+ (f\"- Fixed CL: LCL={Xbar_LCL}, UCL={Xbar_UCL}, Mean={Xbar_Mean}\") +\"\\n\"+(f\"- CPK={Cpk}, StDev={std}, Sample_Mean={avg}\"))\n",
    "print(Conclusion)"
   ]
  },
  {
   "cell_type": "code",
   "execution_count": 13,
   "metadata": {},
   "outputs": [
    {
     "name": "stdout",
     "output_type": "stream",
     "text": [
      "LineA: 95pcs, LineB: 95pcs\n",
      "Day: 100pcs, Night: 90pcs\n"
     ]
    }
   ],
   "source": [
    "# Box Comments for Sampling qty\n",
    "\n",
    "df2 = df.set_index(\"Shift\")\n",
    "night_shift=len(df2.loc[['Night'],['TestData']])\n",
    "day_shift=len(df2.loc[['Day'],['TestData']])\n",
    "df3 = df.set_index(\"Line\")\n",
    "a_line=len(df3.loc[['A'],['TestData']])          \n",
    "b_line=len(df3.loc[['B'],['TestData']])           \n",
    "box_comments=((f\"LineA: {a_line}pcs, LineB: {b_line}pcs\")+\"\\n\"+(f\"Day: {day_shift}pcs, Night: {night_shift}pcs\"))\n",
    "print(box_comments)"
   ]
  },
  {
   "cell_type": "code",
   "execution_count": 14,
   "metadata": {},
   "outputs": [
    {
     "name": "stdout",
     "output_type": "stream",
     "text": [
      "- Found outliers: ['18 at 1/2/2019']\n",
      "- Design Spec: LSL=5, USL=25\n",
      "- Fixed CL: LCL=0, UCL=15.74, Mean=7.27\n",
      "- Sample_R_Mean=6.21\n"
     ]
    },
    {
     "data": {
      "image/png": "[encoded data removed]",
      "text/plain": [
       "<Figure size 432x288 with 1 Axes>"
      ]
     },
     "metadata": {
      "needs_background": "light"
     },
     "output_type": "display_data"
    }
   ],
   "source": [
    "# Plot R Chart\n",
    "plt.plot(xx,rr,marker='.', color='grey')\n",
    "\n",
    "# Use scatter plot to highlight excursion points.\n",
    "plt.scatter(xx, Rs, s=50, marker=\"o\", facecolors='red', edgecolors=\"red\" )\n",
    "\n",
    "# Add Control Lines\n",
    "plt.axhline(y=Rupper, color='r', linestyle='-', alpha=1, label=(f'UCL={round(Rupper)}'))\n",
    "plt.axhline(y=Rlower, color='r', linestyle='-', alpha=1, label=(f'LCL={round(Rlower)}'))\n",
    "plt.axhline(y=Rmean, color='green', linestyle='-', alpha=1, label=(f'Mean={round(Rmean)}'))\n",
    "\n",
    "# Modify charts and save to png\n",
    "plt.title(\"R Chart\")\n",
    "plt.xlabel(\"Order\")\n",
    "plt.ylabel(\"Range\")\n",
    "plt.xticks(rotation=90)\n",
    "SMALL_SIZE = 5\n",
    "plt.rc('legend', fontsize=SMALL_SIZE)\n",
    "plt.rc('axes', labelsize=SMALL_SIZE)    # fontsize of the x and y labels\n",
    "        # plt.xlim(0,10)\n",
    "plt.ylim(0,)\n",
    "plt.legend(loc=\"best\")\n",
    "\n",
    "Rtable=pd.DataFrame({'TestDate':Rd2,'TestResult':Ry2})\n",
    "RExPoints=[]\n",
    "for i in range(len(Rd2)):\n",
    "    RExPoints.append(f'{Ry2[i]} at {Rd2[i]}')\n",
    "\n",
    "plt.savefig(\"R_Chart.png\")\n",
    "RConclusion=((f'- Found outliers: {RExPoints}')+'\\n'+(f\"- Design Spec: LSL={LSL}, USL={USL}\")+\"\\n\"+ (f\"- Fixed CL: LCL={R_LCL}, UCL={R_UCL}, Mean={R_Mean}\") +\"\\n\"+(f\"- Sample_R_Mean={Ravg}\"))\n",
    "print(RConclusion)"
   ]
  },
  {
   "cell_type": "code",
   "execution_count": 15,
   "metadata": {},
   "outputs": [
    {
     "name": "stdout",
     "output_type": "stream",
     "text": [
      "Sample Size (N): 190                                                                                 Group Size (n): 5                                                                               Plot Size (x): 38\n"
     ]
    }
   ],
   "source": [
    "sample_status=(f\"Sample Size (N): {len(df['TestData'])}                                                                                 Group Size (n): {SIZE}                                                                               Plot Size (x): {len(yy)}\")\n",
    "print(sample_status)     "
   ]
  },
  {
   "cell_type": "code",
   "execution_count": 16,
   "metadata": {},
   "outputs": [
    {
     "name": "stdout",
     "output_type": "stream",
     "text": [
      "p-value = NormaltestResult(statistic=29.419288608934195, pvalue=4.0896170975499544e-07)\n"
     ]
    },
    {
     "data": {
      "image/png": "[encoded data removed]",
      "text/plain": [
       "<Figure size 432x288 with 1 Axes>"
      ]
     },
     "metadata": {
      "needs_background": "light"
     },
     "output_type": "display_data"
    }
   ],
   "source": [
    "# Normality test/plot\n",
    "mu, sigma = avg, std    # mean and standard deviation\n",
    "s = yy\n",
    "count, bins, ignored = plt.hist(s, len(s), density=True)\n",
    "# Plot normal distribution\n",
    "plt.plot(bins, 1/(sigma * np.sqrt(2 * np.pi)) * np.exp( - (bins - mu)**2 / (2 * sigma**2) ), linewidth=2, color='r')\n",
    "p_value=stats.normaltest(yy)\n",
    "plt.savefig(\"normal.png\")\n",
    "print(f'p-value = {p_value}')\n",
    "\n",
    "    #alpha=0.05\n",
    "    #print(\"p = {:g}\".format(p))\n",
    "    #if p<alpha:\n",
    "        #print(f'P-value = {p_value}, samples are NOT under normal distribution!')\n",
    "    #else:\n",
    "        #print(f'P-value = {p_value}, samples are under normal distribution!')"
   ]
  },
  {
   "cell_type": "code",
   "execution_count": 17,
   "metadata": {},
   "outputs": [
    {
     "data": {
      "image/png": "[encoded data removed]",
      "text/plain": [
       "<Figure size 432x288 with 1 Axes>"
      ]
     },
     "metadata": {
      "needs_background": "light"
     },
     "output_type": "display_data"
    }
   ],
   "source": [
    "# Error Bar\n",
    "samples=[]\n",
    "num=len(df['TestData'])//SIZE\n",
    "for n in range(num):\n",
    "    group=[]\n",
    "    for i in range(SIZE):\n",
    "        group.append(df['TestData'][n*SIZE+i])\n",
    "    samples.append(group)\n",
    "means=[np.mean(s) for s in samples]\n",
    "standard_errors=[sem(s) for s in samples]\n",
    "\n",
    "fig, ax = plt.subplots( )\n",
    "ax.errorbar(xx, means, standard_errors, fmt='o', alpha=1, label='Mean of Group Samples')    # Here the label is for the mean dot in the bar, 'alpha' is for color not statistcal index\n",
    "ax.set_xlim(-1, len(samples)+1)\n",
    "ax.set_xlabel(\"Sample Order\")\n",
    "ax.set_ylabel(\"SEM\")\n",
    "plt.savefig(\"sem.png\")"
   ]
  },
  {
   "cell_type": "code",
   "execution_count": 18,
   "metadata": {},
   "outputs": [
    {
     "data": {
      "image/png": "[encoded data removed]",
      "text/plain": [
       "<Figure size 432x288 with 2 Axes>"
      ]
     },
     "metadata": {
      "needs_background": "light"
     },
     "output_type": "display_data"
    }
   ],
   "source": [
    "box=df.groupby(\"Line\")\n",
    "box.boxplot(by='Line', grid=False, showmeans=True)\n",
    "plt.savefig(\"box.png\")"
   ]
  },
  {
   "cell_type": "code",
   "execution_count": 19,
   "metadata": {},
   "outputs": [
    {
     "data": {
      "image/png": "[encoded data removed]",
      "text/plain": [
       "<Figure size 432x288 with 2 Axes>"
      ]
     },
     "metadata": {
      "needs_background": "light"
     },
     "output_type": "display_data"
    }
   ],
   "source": [
    "box2=df.groupby(\"Shift\")\n",
    "box2.boxplot(by='Shift', grid=False, showmeans=True)\n",
    "plt.savefig(\"box2.png\")"
   ]
  },
  {
   "cell_type": "code",
   "execution_count": 26,
   "metadata": {},
   "outputs": [
    {
     "name": "stdout",
     "output_type": "stream",
     "text": [
      "ANOVA Result for Line Comparison:\n",
      "F_onewayResult(statistic=0.21710370720747357, pvalue=0.6417950409030415)\n"
     ]
    }
   ],
   "source": [
    "# Anova for Line comparision\n",
    "ll=df['Line'].unique()\n",
    "ano=[]\n",
    "for i in range(len(ll)):\n",
    "    ano.append(df.loc[df['Line']==ll[i]]['TestData'])\n",
    "\n",
    "# limitted for 2 lines comparison \n",
    "Line_Anova=stats.f_oneway(ano[0],ano[1])\n",
    "LineAno=((f'ANOVA Result for Line Comparison:')+'\\n'+(f'{Line_Anova}'))\n",
    "print(LineAno)\n"
   ]
  },
  {
   "cell_type": "code",
   "execution_count": 10,
   "metadata": {},
   "outputs": [
    {
     "name": "stdout",
     "output_type": "stream",
     "text": [
      "ANOVA Result for Shift Comparison:\n",
      "F_onewayResult(statistic=0.7055471522441602, pvalue=0.40199295135836155)\n"
     ]
    }
   ],
   "source": [
    "# Anova for Shift comparision\n",
    "sl=df['Shift'].unique()\n",
    "ano=[]\n",
    "for i in range(len(sl)):\n",
    "    ano.append(df.loc[df['Shift']==sl[i]]['TestData'])\n",
    "\n",
    "# limitted for 2 Shifts comparison \n",
    "Shift_Anova=stats.f_oneway(ano[0],ano[1])\n",
    "ShiftAno=((f'ANOVA Result for Shift Comparison:')+'\\n'+(f'{Shift_Anova}'))\n",
    "print(ShiftAno)"
   ]
  },
  {
   "cell_type": "code",
   "execution_count": 11,
   "metadata": {},
   "outputs": [],
   "source": [
    "# Title Slide\n",
    "prs = Presentation(\"temp.pptx\")     #change layout/placeholder template setting from temp.pptx>view>slide master \n",
    "title_slide_layout = prs.slide_layouts[0]\n",
    "slide = prs.slides.add_slide(title_slide_layout)\n",
    "title = slide.shapes.title\n",
    "subtitle = slide.placeholders[1]\n",
    "title.text = \"SPC(Xbar-R-Chart) Monitoring Report\"\n",
    "subtitle.text = f'THIS IS MACHINE GENERATED REPORT                                                                {dt.datetime.today().strftime(\"%m/%d/%Y\")}'\n",
    "\n",
    "\n",
    "#################################################################\n",
    "\n",
    "# Content Slide-1\n",
    "\n",
    "bullet_slide_layout = prs.slide_layouts[5]\n",
    "slide = prs.slides.add_slide(bullet_slide_layout)\n",
    "shapes = slide.shapes\n",
    "title_shape = shapes.title\n",
    "body_shape = shapes.placeholders[1]\n",
    "title_shape.text = 'Sample SEM & Normality Test'\n",
    "\n",
    "# Body text\n",
    "tf = body_shape.text_frame\n",
    "tf.text = ((f'{sample_status}')+'\\n') \n",
    "\n",
    "p = tf.add_paragraph()\n",
    "p.text = ((f\"Normality test result: \")+'\\n'+'\\n'+(f'{p_value}'))\n",
    "p.level = 1\n",
    "\n",
    "    #p = tf.add_paragraph()\n",
    "    #p.text = 'optinal words here'\n",
    "    #p.level = 2\n",
    "\n",
    "\n",
    "# call .png\n",
    "img_path_n = \"normal.png\"\n",
    "left = Inches(0.3)\n",
    "top = Inches  (0.5)\n",
    "height = Inches(3.8)\n",
    "pic = slide.shapes.add_picture(img_path_n, left, top, height)\n",
    "img_path_sem = \"sem.png\"\n",
    "left = Inches(0.3)\n",
    "top = Inches  (3)\n",
    "height = Inches(3.8)\n",
    "pic = slide.shapes.add_picture(img_path_sem, left, top, height)\n",
    "\n",
    "#####################################################################################\n",
    "\n",
    "# Content Slide2\n",
    "bullet_slide_layout = prs.slide_layouts[5]\n",
    "slide = prs.slides.add_slide(bullet_slide_layout)\n",
    "shapes = slide.shapes\n",
    "title_shape = shapes.title\n",
    "body_shape = shapes.placeholders[1]\n",
    "title_shape.text = 'ANOVA for Line & Shift'\n",
    "\n",
    "# Body text\n",
    "tf = body_shape.text_frame\n",
    "tf.text = ((f'{box_comments}')+'\\n')  \n",
    "\n",
    "p = tf.add_paragraph()\n",
    "p.text = ((f'{LineAno}')+'\\n'+'\\n')\n",
    "p.level = 1\n",
    "\n",
    "p = tf.add_paragraph()\n",
    "p.text = ((f'{ShiftAno}'))\n",
    "p.level = 1\n",
    "\n",
    "# call .png\n",
    "img_path_xbar = \"box.png\"\n",
    "left = Inches(0.3)\n",
    "top = Inches  (0.5)\n",
    "height = Inches(3.8)\n",
    "pic = slide.shapes.add_picture(img_path_xbar, left, top, height)\n",
    "img_path_r = \"box2.png\"\n",
    "left = Inches(0.3)\n",
    "top = Inches  (3)\n",
    "height = Inches(3.8)\n",
    "pic = slide.shapes.add_picture(img_path_r, left, top, height)\n",
    "\n",
    "#####################################################################################\n",
    "\n",
    "# Content Slide3\n",
    "bullet_slide_layout = prs.slide_layouts[5]\n",
    "slide = prs.slides.add_slide(bullet_slide_layout)\n",
    "shapes = slide.shapes\n",
    "title_shape = shapes.title\n",
    "body_shape = shapes.placeholders[1]\n",
    "title_shape.text = 'Xbar-R Chart Monitoring'\n",
    "\n",
    "# Body text\n",
    "if len(yy)<30:\n",
    "    status=(f'WARNING: Sample size does not meet minimum requirement! Increase samples size immediately!')\n",
    "elif Cpk<1.33:\n",
    "    status=(f'WARNING: OCAP Required IMMEDIATELY for low CPK level ({Cpk})!') \n",
    "    if len(y2)!=0:\n",
    "        Status=(f'WARNING: OCAP Required IMMEDIATELY for low CPK level ({Cpk}) and {len(y2)} Outliers!') \n",
    "elif len(y2)!=0:\n",
    "    status=(f'WARNING: OCAP Required for {len(y2)} Outliers!') \n",
    "else:\n",
    "    status=(f'Congratulations! The Process is Stable!')\n",
    "\n",
    "tf = body_shape.text_frame\n",
    "tf.text = ((f'{status}')+'\\n')   \n",
    "\n",
    "p = tf.add_paragraph()\n",
    "p.text = ((f\"Xbar Chart:\")+'\\n'+(f'{Conclusion}')+'\\n'+'\\n')\n",
    "p.level = 1\n",
    "\n",
    "    #p = tf.add_paragraph()\n",
    "    #p.text = 'optinal words here'\n",
    "    #p.level = 2\n",
    "\n",
    "p = tf.add_paragraph()\n",
    "p.text = ((f\"R Chart:\")+'\\n'+(f'{RConclusion}'))\n",
    "p.level = 1\n",
    "\n",
    "    #p = tf.add_paragraph()\n",
    "    #p.text = 'Funding Project List'\n",
    "    #p.level = 2\n",
    "\n",
    "    #p = tf.add_paragraph()\n",
    "    #p.text = 'Funding Priority'\n",
    "    #p.level=2\n",
    "\n",
    "# call .png\n",
    "img_path_xbar = \"Xbar_Chart.png\"\n",
    "left = Inches(0.3)\n",
    "top = Inches  (0.5)\n",
    "height = Inches(3.8)\n",
    "pic = slide.shapes.add_picture(img_path_xbar, left, top, height)\n",
    "img_path_r = \"R_Chart.png\"\n",
    "left = Inches(0.3)\n",
    "top = Inches  (3)\n",
    "height = Inches(3.8)\n",
    "pic = slide.shapes.add_picture(img_path_r, left, top, height)\n",
    "\n",
    "################################################################################## Use another layouts\n",
    "\n",
    "    #bullet_slide_layout = prs.slide_layouts[7]\n",
    "    #slide = prs.slides.add_slide(bullet_slide_layout)\n",
    "    #shapes = slide.shapes\n",
    "    #title_shape = shapes.title\n",
    "    #body_shape = shapes.placeholders[0]\n",
    "    #title_shape.text = 'Box Plot by Line & Shift'\n",
    "\n",
    "    ######################## call .png\n",
    "    #img_path_box = \"box.png\"\n",
    "    #left = Inches(0.2)\n",
    "    #top = Inches  (1.5)\n",
    "    #height = Inches(5)\n",
    "    #pic = slide.shapes.add_picture(img_path_box, left, top, height)\n",
    "    #img_path_box = \"box2.png\"\n",
    "    #left = Inches(5)\n",
    "    #top = Inches  (1.5)\n",
    "    #height = Inches(5)\n",
    "    #pic = slide.shapes.add_picture(img_path_box, left, top, height)\n",
    "#######################################################################################################\n",
    "\n",
    "prs.save(\"XbarR_Chart_Control.pptx\")"
   ]
  },
  {
   "cell_type": "code",
   "execution_count": null,
   "metadata": {},
   "outputs": [],
   "source": []
  },
  {
   "cell_type": "code",
   "execution_count": null,
   "metadata": {},
   "outputs": [],
   "source": []
  }
 ],
 "metadata": {
  "kernelspec": {
   "display_name": "Python 3",
   "language": "python",
   "name": "python3"
  },
  "language_info": {
   "codemirror_mode": {
    "name": "ipython",
    "version": 3
   },
   "file_extension": ".py",
   "mimetype": "text/x-python",
   "name": "python",
   "nbconvert_exporter": "python",
   "pygments_lexer": "ipython3",
   "version": "3.7.3"
  }
 },
 "nbformat": 4,
 "nbformat_minor": 2
}
